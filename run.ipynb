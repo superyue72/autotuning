{
 "cells": [
  {
   "cell_type": "code",
   "execution_count": 1,
   "metadata": {
    "pycharm": {
     "name": "#%%\n"
    }
   },
   "outputs": [],
   "source": [
    "import os, sys\n",
    "import time\n",
    "import copy\n",
    "import random\n",
    "import numpy as np\n",
    "from sklearn.utils import shuffle"
   ]
  },
  {
   "cell_type": "code",
   "execution_count": 2,
   "metadata": {
    "pycharm": {
     "name": "#%%\n"
    }
   },
   "outputs": [],
   "source": [
    "with open(\"llvmpasses.txt\", mode=\"r\") as f:\n",
    "    PASSES = [x.strip() for x in f.readlines()]"
   ]
  },
  {
   "cell_type": "code",
   "execution_count": 3,
   "metadata": {
    "pycharm": {
     "name": "#%%\n"
    }
   },
   "outputs": [
    {
     "data": {
      "text/plain": "['-loop-unswitch',\n '-postdomtree',\n '-opt-remark-emitter',\n '-forceattrs',\n '-float2int']"
     },
     "execution_count": 3,
     "metadata": {},
     "output_type": "execute_result"
    }
   ],
   "source": [
    "PASSES[:5]"
   ]
  },
  {
   "cell_type": "code",
   "execution_count": 4,
   "outputs": [],
   "source": [
    "pass_dir = {}\n",
    "for i in range(0, len(PASSES)):\n",
    "    pass_dir[i] = PASSES[i]"
   ],
   "metadata": {
    "collapsed": false,
    "pycharm": {
     "name": "#%%\n"
    }
   }
  },
  {
   "cell_type": "code",
   "execution_count": 5,
   "outputs": [
    {
     "data": {
      "text/plain": "{0: '-loop-unswitch',\n 1: '-postdomtree',\n 2: '-opt-remark-emitter',\n 3: '-forceattrs',\n 4: '-float2int',\n 5: '-loop-accesses',\n 6: '-loop-simplify',\n 7: '-memdep',\n 8: '-scoped-noalias',\n 9: '-memcpyopt',\n 10: '-callsite-splitting',\n 11: '-gvn',\n 12: '-globaldce',\n 13: '-targetlibinfo',\n 14: '-loop-idiom',\n 15: '-aa',\n 16: '-attributor',\n 17: '-lower-constant-intrinsics',\n 18: '-globals-aa',\n 19: '-demanded-bits',\n 20: '-transform-warning',\n 21: '-aggressive-instcombine',\n 22: '-correlated-propagation',\n 23: '-lcssa',\n 24: '-memoryssa',\n 25: '-early-cse',\n 26: '-deadargelim',\n 27: '-ipsccp',\n 28: '-lazy-block-freq',\n 29: '-licm',\n 30: '-jump-threading',\n 31: '-tbaa',\n 32: '-tailcallelim',\n 33: '-loop-rotate',\n 34: '-slp-vectorizer',\n 35: '-sroa',\n 36: '-basicaa',\n 37: '-barrier',\n 38: '-pgo-memop-opt',\n 39: '-instcombine',\n 40: '-elim-avail-extern',\n 41: '-globalopt',\n 42: '-loop-deletion',\n 43: '-loop-load-elim',\n 44: '-prune-eh',\n 45: '-loops',\n 46: '-libcalls-shrinkwrap',\n 47: '-lazy-branch-prob',\n 48: '-early-cse-memssa',\n 49: '-mldst-motion',\n 50: '-dse',\n 51: '-inferattrs',\n 52: '-called-value-propagation',\n 53: '-strip-dead-prototypes',\n 54: '-loop-unroll',\n 55: '-verify',\n 56: '-argpromotion',\n 57: '-sccp',\n 58: '-profile-summary-info',\n 59: '-assumption-cache-tracker',\n 60: '-lcssa-verification',\n 61: '-indvars',\n 62: '-functionattrs',\n 63: '-loop-sink',\n 64: '-loop-vectorize',\n 65: '-alignment-from-assumptions',\n 66: '-reassociate',\n 67: '-div-rem-pairs',\n 68: '-inline',\n 69: '-ee-instrument',\n 70: '-simplifycfg',\n 71: '-phi-values',\n 72: '-adce',\n 73: '-domtree',\n 74: '-block-freq',\n 75: '-speculative-execution',\n 76: '-basiccg',\n 77: '-lazy-value-info',\n 78: '-branch-prob',\n 79: '-constmerge',\n 80: '-loop-distribute',\n 81: '-mem2reg',\n 82: '-scalar-evolution',\n 83: '-bdce',\n 84: '-instsimplify',\n 85: '-lower-expect',\n 86: '-tti',\n 87: '-rpo-functionattrs'}"
     },
     "execution_count": 5,
     "metadata": {},
     "output_type": "execute_result"
    }
   ],
   "source": [
    "pass_dir"
   ],
   "metadata": {
    "collapsed": false,
    "pycharm": {
     "name": "#%%\n"
    }
   }
  },
  {
   "cell_type": "code",
   "execution_count": 7,
   "outputs": [],
   "source": [
    "option = 0\n",
    "for iter in range(5):\n",
    "    rand_passes = shuffle(PASSES)\n",
    "    if option == 1:\n",
    "        rand_passes = [x[1:] for x in rand_passes]\n",
    "        passes_str = f'-passes=\"{\",\".join(rand_passes)}\"'\n",
    "    else:\n",
    "        passes_str = \" \".join(rand_passes)"
   ],
   "metadata": {
    "collapsed": false,
    "pycharm": {
     "name": "#%%\n"
    }
   }
  },
  {
   "cell_type": "code",
   "execution_count": 8,
   "outputs": [
    {
     "data": {
      "text/plain": "'-loop-sink -bdce -inferattrs -scoped-noalias -verify -instsimplify -aa -indvars -loop-unroll -ee-instrument -loops -jump-threading -lazy-value-info -argpromotion -lcssa-verification -tailcallelim -targetlibinfo -loop-simplify -loop-distribute -forceattrs -branch-prob -postdomtree -licm -lower-constant-intrinsics -early-cse -rpo-functionattrs -deadargelim -ipsccp -strip-dead-prototypes -alignment-from-assumptions -loop-load-elim -dse -gvn -scalar-evolution -opt-remark-emitter -memdep -globals-aa -constmerge -tbaa -block-freq -sccp -speculative-execution -called-value-propagation -float2int -loop-unswitch -basiccg -prune-eh -sroa -loop-rotate -adce -lazy-block-freq -lcssa -domtree -demanded-bits -callsite-splitting -basicaa -assumption-cache-tracker -elim-avail-extern -loop-vectorize -memcpyopt -early-cse-memssa -loop-deletion -tti -slp-vectorizer -div-rem-pairs -loop-idiom -reassociate -libcalls-shrinkwrap -lazy-branch-prob -mem2reg -attributor -functionattrs -aggressive-instcombine -barrier -inline -memoryssa -globaldce -correlated-propagation -loop-accesses -instcombine -globalopt -profile-summary-info -simplifycfg -mldst-motion -lower-expect -transform-warning -pgo-memop-opt -phi-values'"
     },
     "execution_count": 8,
     "metadata": {},
     "output_type": "execute_result"
    }
   ],
   "source": [
    "passes_str"
   ],
   "metadata": {
    "collapsed": false,
    "pycharm": {
     "name": "#%%\n"
    }
   }
  },
  {
   "cell_type": "code",
   "execution_count": null,
   "outputs": [],
   "source": [],
   "metadata": {
    "collapsed": false,
    "pycharm": {
     "name": "#%%\n"
    }
   }
  },
  {
   "cell_type": "code",
   "execution_count": null,
   "outputs": [],
   "source": [],
   "metadata": {
    "collapsed": false,
    "pycharm": {
     "name": "#%%\n"
    }
   }
  },
  {
   "cell_type": "code",
   "execution_count": 14,
   "metadata": {
    "pycharm": {
     "name": "#%%\n"
    }
   },
   "outputs": [],
   "source": [
    "pg_path = \"polybench/datamining/correlation/correlation/correlation.c\"\n",
    "pg_name = \"correlation\""
   ]
  },
  {
   "cell_type": "code",
   "execution_count": 15,
   "metadata": {
    "pycharm": {
     "name": "#%%\n"
    }
   },
   "outputs": [],
   "source": [
    "ini_cmd1 = 'clang -O0 -emit-llvm -I ../polybench/utilities -I ../polybench/datamining/correlation/correlation -c {path} -o {name}.bc'\n",
    "ini_cmd2 = 'clang -O0 -emit-llvm -I ../polybench/utilities -I ../polybench/datamining/correlation/correlation -c ../polybench/utilities/polybench.c -o polybench.bc;'\n",
    "cmd1 = ' -S polybench.bc -o polybench.opt.bc; llc -O0 -filetype=obj polybench.opt.bc -o polybench.o'\n",
    "cmd2 = ' -S {name}.bc -o {name}.opt.bc; llc -O0 -filetype=obj {name}.opt.bc -o {name}.o'\n",
    "cmd3 = 'clang -O0 -no-pie -lm *.o -o {name}'\n",
    "cmd4 = './{name}'\n",
    "clean_cmd = 'rm -rf *bc *.o *.I *.S {name}'"
   ]
  },
  {
   "cell_type": "code",
   "execution_count": 16,
   "metadata": {
    "pycharm": {
     "name": "#%%\n"
    }
   },
   "outputs": [
    {
     "name": "stdout",
     "output_type": "stream",
     "text": [
      "Iteration 1: -tti -lazy-value-info -div-rem-pairs -postdomtree -phi-values -correlated-propagation -instcombine -barrier -verify -rpo-functionattrs -globalopt -memcpyopt -sroa -jump-threading -licm -loop-load-elim -loop-rotate -loop-distribute -globals-aa -memdep -loops -instsimplify -lower-constant-intrinsics -early-cse-memssa -ipsccp -gvn -forceattrs -lazy-branch-prob -simplifycfg -demanded-bits -loop-unroll -opt-remark-emitter -lower-expect -profile-summary-info -loop-idiom -tbaa -float2int -reassociate -attributor -callsite-splitting -adce -alignment-from-assumptions -loop-unswitch -early-cse -tailcallelim -lcssa-verification -dse -aggressive-instcombine -argpromotion -basiccg -elim-avail-extern -slp-vectorizer -loop-deletion -targetlibinfo -ee-instrument -loop-simplify -assumption-cache-tracker -lcssa -transform-warning -memoryssa -domtree -mldst-motion -inferattrs -mem2reg -constmerge -indvars -pgo-memop-opt -scalar-evolution -lazy-block-freq -libcalls-shrinkwrap -loop-sink -sccp -scoped-noalias -branch-prob -loop-vectorize -strip-dead-prototypes -speculative-execution -bdce -block-freq -aa -deadargelim -prune-eh -globaldce -loop-accesses -basicaa -inline -functionattrs -called-value-propagation\n",
      "*****\n",
      "clang -O0 -no-pie -lm *.o -o correlation\n",
      "[]\n"
     ]
    },
    {
     "name": "stderr",
     "output_type": "stream",
     "text": [
      "C:\\Users\\LYue7\\anaconda3\\envs\\autotuning\\lib\\site-packages\\numpy\\core\\_methods.py:269: RuntimeWarning: Degrees of freedom <= 0 for slice\n",
      "  ret = _var(a, axis=axis, dtype=dtype, out=out, ddof=ddof,\n",
      "C:\\Users\\LYue7\\anaconda3\\envs\\autotuning\\lib\\site-packages\\numpy\\core\\_methods.py:226: RuntimeWarning: invalid value encountered in divide\n",
      "  arrmean = um.true_divide(arrmean, div, out=arrmean,\n",
      "C:\\Users\\LYue7\\anaconda3\\envs\\autotuning\\lib\\site-packages\\numpy\\core\\_methods.py:261: RuntimeWarning: invalid value encountered in scalar divide\n",
      "  ret = ret.dtype.type(ret / rcount)\n",
      "C:\\Users\\LYue7\\anaconda3\\envs\\autotuning\\lib\\site-packages\\numpy\\core\\fromnumeric.py:3464: RuntimeWarning: Mean of empty slice.\n",
      "  return _methods._mean(a, axis=axis, dtype=dtype,\n",
      "C:\\Users\\LYue7\\anaconda3\\envs\\autotuning\\lib\\site-packages\\numpy\\core\\_methods.py:192: RuntimeWarning: invalid value encountered in scalar divide\n",
      "  ret = ret.dtype.type(ret / rcount)\n"
     ]
    },
    {
     "ename": "ValueError",
     "evalue": "zero-size array to reduction operation minimum which has no identity",
     "output_type": "error",
     "traceback": [
      "\u001B[1;31m---------------------------------------------------------------------------\u001B[0m",
      "\u001B[1;31mValueError\u001B[0m                                Traceback (most recent call last)",
      "Cell \u001B[1;32mIn[16], line 29\u001B[0m\n\u001B[0;32m     27\u001B[0m     exe_times\u001B[38;5;241m.\u001B[39mappend(end \u001B[38;5;241m-\u001B[39m begin)\n\u001B[0;32m     28\u001B[0m \u001B[38;5;28mprint\u001B[39m(exe_times)\n\u001B[1;32m---> 29\u001B[0m \u001B[38;5;28mprint\u001B[39m(\u001B[38;5;124mf\u001B[39m\u001B[38;5;124m\"\u001B[39m\u001B[38;5;124mStd: \u001B[39m\u001B[38;5;132;01m{\u001B[39;00mnp\u001B[38;5;241m.\u001B[39mstd(exe_times)\u001B[38;5;132;01m}\u001B[39;00m\u001B[38;5;124m; Median: \u001B[39m\u001B[38;5;132;01m{\u001B[39;00mnp\u001B[38;5;241m.\u001B[39mmedian(exe_times)\u001B[38;5;132;01m}\u001B[39;00m\u001B[38;5;124m; Mean: \u001B[39m\u001B[38;5;132;01m{\u001B[39;00mnp\u001B[38;5;241m.\u001B[39mmean(exe_times)\u001B[38;5;132;01m}\u001B[39;00m\u001B[38;5;124m; Min: \u001B[39m\u001B[38;5;132;01m{\u001B[39;00mnp\u001B[38;5;241m.\u001B[39mmin(exe_times)\u001B[38;5;132;01m}\u001B[39;00m\u001B[38;5;124m; Max: \u001B[39m\u001B[38;5;132;01m{\u001B[39;00mnp\u001B[38;5;241m.\u001B[39mmax(exe_times)\u001B[38;5;132;01m}\u001B[39;00m\u001B[38;5;124m\"\u001B[39m)\n\u001B[0;32m     30\u001B[0m \u001B[38;5;28mprint\u001B[39m(\u001B[38;5;124m\"\u001B[39m\u001B[38;5;124m=\u001B[39m\u001B[38;5;124m\"\u001B[39m \u001B[38;5;241m*\u001B[39m \u001B[38;5;241m20\u001B[39m)\n\u001B[0;32m     31\u001B[0m res\u001B[38;5;241m.\u001B[39mappend(exe_times)\n",
      "File \u001B[1;32m<__array_function__ internals>:200\u001B[0m, in \u001B[0;36mamin\u001B[1;34m(*args, **kwargs)\u001B[0m\n",
      "File \u001B[1;32m~\\anaconda3\\envs\\autotuning\\lib\\site-packages\\numpy\\core\\fromnumeric.py:2946\u001B[0m, in \u001B[0;36mamin\u001B[1;34m(a, axis, out, keepdims, initial, where)\u001B[0m\n\u001B[0;32m   2829\u001B[0m \u001B[38;5;129m@array_function_dispatch\u001B[39m(_amin_dispatcher)\n\u001B[0;32m   2830\u001B[0m \u001B[38;5;28;01mdef\u001B[39;00m \u001B[38;5;21mamin\u001B[39m(a, axis\u001B[38;5;241m=\u001B[39m\u001B[38;5;28;01mNone\u001B[39;00m, out\u001B[38;5;241m=\u001B[39m\u001B[38;5;28;01mNone\u001B[39;00m, keepdims\u001B[38;5;241m=\u001B[39mnp\u001B[38;5;241m.\u001B[39m_NoValue, initial\u001B[38;5;241m=\u001B[39mnp\u001B[38;5;241m.\u001B[39m_NoValue,\n\u001B[0;32m   2831\u001B[0m          where\u001B[38;5;241m=\u001B[39mnp\u001B[38;5;241m.\u001B[39m_NoValue):\n\u001B[0;32m   2832\u001B[0m \u001B[38;5;250m    \u001B[39m\u001B[38;5;124;03m\"\"\"\u001B[39;00m\n\u001B[0;32m   2833\u001B[0m \u001B[38;5;124;03m    Return the minimum of an array or minimum along an axis.\u001B[39;00m\n\u001B[0;32m   2834\u001B[0m \n\u001B[1;32m   (...)\u001B[0m\n\u001B[0;32m   2944\u001B[0m \u001B[38;5;124;03m    6\u001B[39;00m\n\u001B[0;32m   2945\u001B[0m \u001B[38;5;124;03m    \"\"\"\u001B[39;00m\n\u001B[1;32m-> 2946\u001B[0m     \u001B[38;5;28;01mreturn\u001B[39;00m \u001B[43m_wrapreduction\u001B[49m\u001B[43m(\u001B[49m\u001B[43ma\u001B[49m\u001B[43m,\u001B[49m\u001B[43m \u001B[49m\u001B[43mnp\u001B[49m\u001B[38;5;241;43m.\u001B[39;49m\u001B[43mminimum\u001B[49m\u001B[43m,\u001B[49m\u001B[43m \u001B[49m\u001B[38;5;124;43m'\u001B[39;49m\u001B[38;5;124;43mmin\u001B[39;49m\u001B[38;5;124;43m'\u001B[39;49m\u001B[43m,\u001B[49m\u001B[43m \u001B[49m\u001B[43maxis\u001B[49m\u001B[43m,\u001B[49m\u001B[43m \u001B[49m\u001B[38;5;28;43;01mNone\u001B[39;49;00m\u001B[43m,\u001B[49m\u001B[43m \u001B[49m\u001B[43mout\u001B[49m\u001B[43m,\u001B[49m\n\u001B[0;32m   2947\u001B[0m \u001B[43m                          \u001B[49m\u001B[43mkeepdims\u001B[49m\u001B[38;5;241;43m=\u001B[39;49m\u001B[43mkeepdims\u001B[49m\u001B[43m,\u001B[49m\u001B[43m \u001B[49m\u001B[43minitial\u001B[49m\u001B[38;5;241;43m=\u001B[39;49m\u001B[43minitial\u001B[49m\u001B[43m,\u001B[49m\u001B[43m \u001B[49m\u001B[43mwhere\u001B[49m\u001B[38;5;241;43m=\u001B[39;49m\u001B[43mwhere\u001B[49m\u001B[43m)\u001B[49m\n",
      "File \u001B[1;32m~\\anaconda3\\envs\\autotuning\\lib\\site-packages\\numpy\\core\\fromnumeric.py:86\u001B[0m, in \u001B[0;36m_wrapreduction\u001B[1;34m(obj, ufunc, method, axis, dtype, out, **kwargs)\u001B[0m\n\u001B[0;32m     83\u001B[0m         \u001B[38;5;28;01melse\u001B[39;00m:\n\u001B[0;32m     84\u001B[0m             \u001B[38;5;28;01mreturn\u001B[39;00m reduction(axis\u001B[38;5;241m=\u001B[39maxis, out\u001B[38;5;241m=\u001B[39mout, \u001B[38;5;241m*\u001B[39m\u001B[38;5;241m*\u001B[39mpasskwargs)\n\u001B[1;32m---> 86\u001B[0m \u001B[38;5;28;01mreturn\u001B[39;00m ufunc\u001B[38;5;241m.\u001B[39mreduce(obj, axis, dtype, out, \u001B[38;5;241m*\u001B[39m\u001B[38;5;241m*\u001B[39mpasskwargs)\n",
      "\u001B[1;31mValueError\u001B[0m: zero-size array to reduction operation minimum which has no identity"
     ]
    }
   ],
   "source": [
    "for iter in range(10):\n",
    "    res = []\n",
    "    std_time = []\n",
    "    Median_time = []\n",
    "    Mean_time = []\n",
    "    Min_time = []\n",
    "    Max_time = []\n",
    "    rand_passes = shuffle(PASSES)\n",
    "    print(f\"Iteration {iter + 1}:\", \" \".join(rand_passes))\n",
    "    print(\"*\" * 5)\n",
    "    os.system(clean_cmd.format(name=pg_name))\n",
    "    os.system(ini_cmd1.format(path=pg_path, name=pg_name))\n",
    "    os.system(ini_cmd2)\n",
    "    os.system(\"opt -O0 \" + \" \".join(rand_passes) + cmd1)\n",
    "    os.system(\"opt -O0 \" + \" \".join(rand_passes) + cmd2.format(name=pg_name))\n",
    "    print(cmd3.format(name=pg_name))\n",
    "    if os.system(cmd3.format(name=pg_name)) == 0:\n",
    "        print(\"Compiled! Measuring execution time...\")\n",
    "    exe_times = []\n",
    "    for rtime in range(10):\n",
    "        begin = time.time()\n",
    "        ret = os.system(cmd4.format(name=pg_name))\n",
    "        if ret > 0:\n",
    "            continue\n",
    "        end = time.time()\n",
    "        print(f\"R{rtime + 1}:\", end - begin)\n",
    "        exe_times.append(end - begin)\n",
    "    print(exe_times)\n",
    "    print(f\"Std: {np.std(exe_times)}; Median: {np.median(exe_times)}; Mean: {np.mean(exe_times)}; Min: {np.min(exe_times)}; Max: {np.max(exe_times)}\")\n",
    "    print(\"=\" * 20)\n",
    "    res.append(exe_times)\n",
    "    std_time.append(np.std(exe_times))\n",
    "    Median_time.append(np.median(exe_times))\n",
    "    Mean_time.append(np.mean(exe_times))\n",
    "    Min_time.append(np.min(exe_times))\n",
    "    Max_time.append(np.max(exe_times))"
   ]
  },
  {
   "cell_type": "code",
   "execution_count": null,
   "metadata": {
    "pycharm": {
     "name": "#%%\n"
    }
   },
   "outputs": [],
   "source": []
  }
 ],
 "metadata": {
  "kernelspec": {
   "display_name": "python3.10",
   "language": "python",
   "name": "python3"
  },
  "language_info": {
   "codemirror_mode": {
    "name": "ipython",
    "version": 3
   },
   "file_extension": ".py",
   "mimetype": "text/x-python",
   "name": "python",
   "nbconvert_exporter": "python",
   "pygments_lexer": "ipython3",
   "version": "3.10.6"
  },
  "orig_nbformat": 4
 },
 "nbformat": 4,
 "nbformat_minor": 2
}